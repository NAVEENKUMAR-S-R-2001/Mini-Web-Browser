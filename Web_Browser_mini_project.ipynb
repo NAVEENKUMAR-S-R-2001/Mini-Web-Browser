{
 "cells": [
  {
   "cell_type": "code",
   "execution_count": 1,
   "metadata": {},
   "outputs": [
    {
     "data": {
      "text/plain": [
       "True"
      ]
     },
     "execution_count": 1,
     "metadata": {},
     "output_type": "execute_result"
    }
   ],
   "source": [
    "import webbrowser\n",
    "url=\"www.youtube.com\"\n",
    "webbrowser.open_new(url)"
   ]
  },
  {
   "cell_type": "code",
   "execution_count": 22,
   "metadata": {},
   "outputs": [],
   "source": [
    "import tkinter as tk \n",
    "import webbrowser\n",
    "root=tk.Tk()\n",
    "root.geometry('400x150')\n",
    "root.title('Web Browser')\n",
    "root.configure(bg='black')\n",
    "\n",
    "def fb():\n",
    "    webbrowser.open_new('www.facebook.com')\n",
    "def yt():\n",
    "    webbrowser.open_new('www.youtube.com')  \n",
    "def ig():\n",
    "    webbrowser.open_new('www.instagram.com')\n",
    "def tw():\n",
    "    webbrowser.open_new('www.twitter.com')\n",
    "def gm():\n",
    "    webbrowser.open_new('www.linkdln.com')    \n",
    "def search():\n",
    "    word=x.get()\n",
    "    search='https://www.google.com/search?q='+word\n",
    "    webbrowser.open_new(search)\n",
    "    \n",
    "    \n",
    "x=tk.StringVar()    \n",
    "b1=tk.Button(root,text='Facebook',fg='white',bg='blue',font=('times new roman',12,'bold'),command=fb)\n",
    "b1.place(x=10,y=70,width=80,height=30)\n",
    "b2=tk.Button(root,text='YouTube',fg='white',bg='#FF0000',font=('times new roman',12,'bold'),command=yt)\n",
    "b2.place(x=100,y=70,width=80,height=30)\n",
    "b3=tk.Button(root,text='Instagram',fg='white',bg='#C13584',font=('times new roman',12,'bold'),command=ig)\n",
    "b3.place(x=190,y=70,width=80,height=30)\n",
    "b4=tk.Button(root,text='Twitter',fg='white',bg='#01acee',font=('times new roman',15,'bold'),command=tw)\n",
    "b4.place(x=10,y=105,width=135,height=30)\n",
    "b5=tk.Button(root,text='Linkdln',fg='white',bg='#11acee',font=('times new roman',15,'bold'),command=gm)\n",
    "b5.place(x=155,y=105,width=135,height=30)\n",
    "b6=tk.Button(root,text='Search',fg='white',bg='#22acee',font=('times new roman',15,'bold'),command=search)\n",
    "b6.place(x=320,y=10,width=70,height=50)\n",
    "e1=tk.Entry(root,textvariable=x)\n",
    "e1.place(x=10,y=10,width=300,height=50)\n",
    "root.mainloop()"
   ]
  },
  {
   "cell_type": "code",
   "execution_count": null,
   "metadata": {},
   "outputs": [],
   "source": []
  },
  {
   "cell_type": "code",
   "execution_count": null,
   "metadata": {},
   "outputs": [],
   "source": []
  }
 ],
 "metadata": {
  "kernelspec": {
   "display_name": "Python 3",
   "language": "python",
   "name": "python3"
  },
  "language_info": {
   "codemirror_mode": {
    "name": "ipython",
    "version": 3
   },
   "file_extension": ".py",
   "mimetype": "text/x-python",
   "name": "python",
   "nbconvert_exporter": "python",
   "pygments_lexer": "ipython3",
   "version": "3.7.6"
  }
 },
 "nbformat": 4,
 "nbformat_minor": 4
}
